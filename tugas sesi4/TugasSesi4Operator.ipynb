{
 "cells": [
  {
   "cell_type": "markdown",
   "id": "af8c9aa0-ccf2-4e7b-a8a2-a3615699b962",
   "metadata": {},
   "source": [
    "<h1>1. Operator Aritmatika</h1>"
   ]
  },
  {
   "cell_type": "code",
   "execution_count": 16,
   "id": "9e80782e-c33b-483d-bf61-834ae2f51b0b",
   "metadata": {},
   "outputs": [
    {
     "name": "stdin",
     "output_type": "stream",
     "text": [
      "Isikan Jumlah Apel 12\n",
      "Isikan Jumlah Teman 4\n"
     ]
    },
    {
     "name": "stdout",
     "output_type": "stream",
     "text": [
      "Jumlah Apel Budi setelah dibagikan 12 // 4 = 3\n"
     ]
    },
    {
     "name": "stdin",
     "output_type": "stream",
     "text": [
      "Tambahkan Apel 8\n"
     ]
    },
    {
     "name": "stdout",
     "output_type": "stream",
     "text": [
      "Jumlah Apell setelah ditambahkan 12 + 8 = 20\n"
     ]
    }
   ],
   "source": [
    "x = int(input(\"Isikan Jumlah Apel\"))\n",
    "y = int(input(\"Isikan Jumlah Teman\"))\n",
    "\n",
    "hasilBagiBulat = x // y\n",
    "\n",
    "print(\"Jumlah Apel Budi setelah dibagikan\",x,\"//\",y,\"=\",hasilBagiBulat)\n",
    "\n",
    "z = int(input(\"Tambahkan Apel\"))\n",
    "\n",
    "hasilTambah = x + z\n",
    "\n",
    "\n",
    "print(\"Jumlah Apell setelah ditambahkan\",x,\"+\",z,\"=\",hasilTambah)"
   ]
  },
  {
   "cell_type": "markdown",
   "id": "456553f3-9b19-46b7-81b7-51a0553d7a2c",
   "metadata": {},
   "source": [
    "<h1>2. Operator Perbandingan</h1>"
   ]
  },
  {
   "cell_type": "code",
   "execution_count": 17,
   "id": "9a7cd79a-8bd5-4f9b-8d7a-7ab4be126411",
   "metadata": {},
   "outputs": [
    {
     "name": "stdin",
     "output_type": "stream",
     "text": [
      "Isikan Tb Siti 160\n",
      "Isikan Tb Andi 165\n"
     ]
    },
    {
     "name": "stdout",
     "output_type": "stream",
     "text": [
      "Andi lebih tinggi dari Siti\n"
     ]
    }
   ],
   "source": [
    "x = int(input(\"Isikan Tb Siti\"))\n",
    "y = int(input(\"Isikan Tb Andi\"))\n",
    "\n",
    "if x > y:\n",
    "    print(\"Siti lebih tinggi dari Andi\")\n",
    "elif x < y:\n",
    "    print(\"Andi lebih tinggi dari Siti\")\n",
    "else:\n",
    "    print(\"Andi dan Siti tinggi nya sama\")"
   ]
  },
  {
   "cell_type": "markdown",
   "id": "028f67a9-90c0-4ffd-9d4f-0b6f98493ecd",
   "metadata": {},
   "source": [
    "<H1>3. Operator Logika</H1>"
   ]
  },
  {
   "cell_type": "code",
   "execution_count": 18,
   "id": "e07c488c-36a6-4960-8d8e-aeb736adf0aa",
   "metadata": {},
   "outputs": [
    {
     "name": "stdin",
     "output_type": "stream",
     "text": [
      "Apakah cuaca nya cerah? (ya/tidak) : ya\n",
      "Apakah Budi sudah menyelesaikan PR nya? (ya/tidak) : ya\n"
     ]
    },
    {
     "name": "stdout",
     "output_type": "stream",
     "text": [
      "Budi bisa bermain keluar\n"
     ]
    }
   ],
   "source": [
    "a = str(input(\"Apakah cuaca nya cerah? (ya/tidak) :\"))\n",
    "b = str(input(\"Apakah Budi sudah menyelesaikan PR nya? (ya/tidak) :\"))\n",
    "c = a and b\n",
    "\n",
    "if c:\n",
    "    print(\"Budi bisa bermain keluar\")\n",
    "else:\n",
    "    print(\"Budi tidak bisa bermain keluar\")"
   ]
  },
  {
   "cell_type": "code",
   "execution_count": 19,
   "id": "0afdd781-a885-4276-96ae-9237493b9b60",
   "metadata": {},
   "outputs": [
    {
     "name": "stdin",
     "output_type": "stream",
     "text": [
      "Apakah cuaca nya cerah? (ya/tidak) : ya\n",
      "Apakah Budi sudah menyelesaikan PR nya? (ya/tidak) : ya\n"
     ]
    },
    {
     "name": "stdout",
     "output_type": "stream",
     "text": [
      "Apakah Budi bisa main keluar? ya\n"
     ]
    }
   ],
   "source": [
    "a = str(input(\"Apakah cuaca nya cerah? (ya/tidak) :\"))\n",
    "b = str(input(\"Apakah Budi sudah menyelesaikan PR nya? (ya/tidak) :\"))\n",
    "c = a and b\n",
    "\n",
    "print(\"Apakah Budi bisa main keluar?\",c)"
   ]
  },
  {
   "cell_type": "markdown",
   "id": "12663164-136e-4791-a769-de5ac078e03c",
   "metadata": {},
   "source": [
    "<h1>4. Operator Bitwise</h1>"
   ]
  },
  {
   "cell_type": "code",
   "execution_count": 21,
   "id": "54969983-6939-4893-bed3-ae3c8badde96",
   "metadata": {},
   "outputs": [
    {
     "name": "stdin",
     "output_type": "stream",
     "text": [
      "Isikan angka 1 : 6\n",
      "Isikan angka 2 : 3\n"
     ]
    },
    {
     "name": "stdout",
     "output_type": "stream",
     "text": [
      "0b110\n",
      "0b11\n",
      "-----------------&\n",
      "0b10\n",
      "Hasil desimal AND adalah : 2\n",
      "0b110\n",
      "0b11\n",
      "---------------|\n",
      "0b111\n",
      "Hasil desimal OR adalah : 7\n",
      "0b110\n",
      "0b11\n",
      "---------------^\n",
      "0b101\n",
      "Hasil desimal XOR adalah : 5\n"
     ]
    }
   ],
   "source": [
    "bil1 = int(input(\"Isikan angka 1 :\"))\n",
    "bil2 = int(input(\"Isikan angka 2 :\"))\n",
    "\n",
    "#Bitwise AND (&)\n",
    "bitwiseAnd = bil1 & bil2\n",
    "print(bin(bil1))\n",
    "print(bin(bil2))\n",
    "print(\"-----------------&\")\n",
    "print(bin(bitwiseAnd))\n",
    "print(\"Hasil desimal AND adalah :\",bitwiseAnd)\n",
    "\n",
    "#Bitwise Or (|)\n",
    "bitwiseOr = bil1 | bil2\n",
    "print(bin(bil1))\n",
    "print(bin(bil2))\n",
    "print(\"---------------|\")\n",
    "print(bin(bitwiseOr))\n",
    "print(\"Hasil desimal OR adalah :\",bitwiseOr)\n",
    "\n",
    "#Bitwise XOR (^)\n",
    "bitwiseXOR = bil1 ^ bil2\n",
    "print(bin(bil1))\n",
    "print(bin(bil2))\n",
    "print(\"---------------^\")\n",
    "print(bin(bitwiseXOR))\n",
    "print(\"Hasil desimal XOR adalah :\",bitwiseXOR)"
   ]
  },
  {
   "cell_type": "markdown",
   "id": "a964b0e3-db93-4df4-b4b4-232a812c5534",
   "metadata": {},
   "source": [
    "<h1>5. Operator Penugasan</h1>"
   ]
  },
  {
   "cell_type": "code",
   "execution_count": 22,
   "id": "802463f6-4c17-4a16-b2ee-bc7bfe63e82c",
   "metadata": {},
   "outputs": [
    {
     "name": "stdin",
     "output_type": "stream",
     "text": [
      "Isikan Saldo 50000\n"
     ]
    },
    {
     "name": "stdout",
     "output_type": "stream",
     "text": [
      "Saldo awal dari <Saldo> : 50000\n",
      "Saldo setelah diisi ulang : 70000\n",
      "Saldo setelah dibelikan paket : 40000\n",
      "Sisa Saldo nya adalah : 40000\n"
     ]
    }
   ],
   "source": [
    "nilai = int(input(\"Isikan Saldo\"))\n",
    "print(\"Saldo awal dari <Saldo> :\",nilai)\n",
    "nilai+= 20000\n",
    "print(\"Saldo setelah diisi ulang :\",nilai)\n",
    "nilai-= 30000\n",
    "print(\"Saldo setelah dibelikan paket :\",nilai)\n",
    "print(\"Sisa Saldo nya adalah :\",nilai)"
   ]
  },
  {
   "cell_type": "markdown",
   "id": "a0a0a69c-217d-48d1-8ec9-a2dcf2e241e8",
   "metadata": {},
   "source": [
    "<h1>6. Operator Keanggotaan</h1>"
   ]
  },
  {
   "cell_type": "code",
   "execution_count": 23,
   "id": "186fcb4c-719d-444c-97e4-f468b132596c",
   "metadata": {},
   "outputs": [
    {
     "name": "stdin",
     "output_type": "stream",
     "text": [
      "Isikan nama yang dicari : Eka\n"
     ]
    },
    {
     "name": "stdout",
     "output_type": "stream",
     "text": [
      "Apakah nama tsb terdaftar sebagai peserta? False\n"
     ]
    },
    {
     "name": "stdin",
     "output_type": "stream",
     "text": [
      "Isikan kata yang dicari : Python\n"
     ]
    },
    {
     "name": "stdout",
     "output_type": "stream",
     "text": [
      "Apakah kata Python ada dalam kalimat? True\n"
     ]
    }
   ],
   "source": [
    "nama = input(\"Isikan nama yang dicari :\")\n",
    "listNama = [\"Andi\",\"Budi\",\"Citra\",\"Dewi\"]\n",
    "print(\"Apakah nama tsb terdaftar sebagai peserta?\", nama in listNama)\n",
    "\n",
    "kata = input(\"Isikan kata yang dicari :\")\n",
    "kalimat = \"Saya suka belajar Python\"\n",
    "print(\"Apakah kata Python ada dalam kalimat?\",kata in kalimat)"
   ]
  },
  {
   "cell_type": "markdown",
   "id": "c8fa86e2-1276-4239-a6d7-698abcd2130a",
   "metadata": {},
   "source": [
    "<h1>7. Operator Identitas</h1>"
   ]
  },
  {
   "cell_type": "code",
   "execution_count": 24,
   "id": "41f16bc2-869f-4fd9-9583-528d499e261a",
   "metadata": {},
   "outputs": [
    {
     "name": "stdout",
     "output_type": "stream",
     "text": [
      "Memori address dari x 140726544771800\n",
      "Memori address dari y 140726544771800\n",
      "Apakah x adalah y? True\n",
      "Memori address dari a 1349597489792\n",
      "Memori address dari b 1349597660672\n",
      "Apakah a adalah b? False\n"
     ]
    }
   ],
   "source": [
    "x = 10\n",
    "y = 10\n",
    "\n",
    "print('Memori address dari x',id(x))\n",
    "print('Memori address dari y',id(y))\n",
    "print('Apakah x adalah y?',x is y)\n",
    "\n",
    "a = [4,7,8]\n",
    "b = [4,7,8]\n",
    "\n",
    "print('Memori address dari a',id(a))\n",
    "print('Memori address dari b',id(b))\n",
    "print('Apakah a adalah b?',a is b)"
   ]
  },
  {
   "cell_type": "markdown",
   "id": "16aa49bf-197c-4c9d-8962-860352ab3521",
   "metadata": {},
   "source": [
    "<h1>8. Operator Ternary</h1>"
   ]
  },
  {
   "cell_type": "code",
   "execution_count": 27,
   "id": "af61d5fd-c8d9-4c34-a025-604dc4f1ca78",
   "metadata": {},
   "outputs": [
    {
     "name": "stdin",
     "output_type": "stream",
     "text": [
      "Isikan angka : 110\n"
     ]
    },
    {
     "name": "stdout",
     "output_type": "stream",
     "text": [
      "Lebih besar dari 100\n"
     ]
    },
    {
     "name": "stdin",
     "output_type": "stream",
     "text": [
      "Isikan nilai : 90\n"
     ]
    },
    {
     "name": "stdout",
     "output_type": "stream",
     "text": [
      "LULUS\n"
     ]
    }
   ],
   "source": [
    "number = int(input(\"Isikan angka :\"))\n",
    "AngkaLebihBesar = \"Lebih besar dari 100\" if number > 100 else \"Lebih kecil dari 100\"\n",
    "print(AngkaLebihBesar)\n",
    "\n",
    "nilai = int(input(\"Isikan nilai :\"))\n",
    "nilaiLulus = \"LULUS\" if nilai > 70 else \"Tidak Lulus\"\n",
    "print(nilaiLulus)"
   ]
  }
 ],
 "metadata": {
  "kernelspec": {
   "display_name": "Python 3 (ipykernel)",
   "language": "python",
   "name": "python3"
  },
  "language_info": {
   "codemirror_mode": {
    "name": "ipython",
    "version": 3
   },
   "file_extension": ".py",
   "mimetype": "text/x-python",
   "name": "python",
   "nbconvert_exporter": "python",
   "pygments_lexer": "ipython3",
   "version": "3.12.7"
  }
 },
 "nbformat": 4,
 "nbformat_minor": 5
}
